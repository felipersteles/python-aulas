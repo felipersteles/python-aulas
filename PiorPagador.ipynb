{
  "nbformat": 4,
  "nbformat_minor": 0,
  "metadata": {
    "colab": {
      "provenance": []
    },
    "kernelspec": {
      "name": "python3",
      "display_name": "Python 3"
    },
    "language_info": {
      "name": "python"
    }
  },
  "cells": [
    {
      "cell_type": "markdown",
      "source": [
        "# Problema do pior pagador\n",
        "\n",
        "### Objetivo do problema é determinar quem é o pior pagador dada uma matriz com a quantidade de operações entre um grupo de pagadores e devedores\n",
        "\n"
      ],
      "metadata": {
        "id": "gnNXTTVShwla"
      }
    },
    {
      "cell_type": "code",
      "execution_count": 2,
      "metadata": {
        "colab": {
          "base_uri": "https://localhost:8080/"
        },
        "id": "qTD_him4wBU5",
        "outputId": "0451896c-7945-4f69-f795-028fd6da60a2"
      },
      "outputs": [
        {
          "output_type": "stream",
          "name": "stdout",
          "text": [
            "[['ana', 'bruna', 15], ['ana', 'carla', 20], ['bruna', 'carla', 7], ['carla', 'ana', 20], ['carla', 'bruna', 10]]\n"
          ]
        }
      ],
      "source": [
        "# Exemplo de input: \n",
        "# Ana deve 15 reais para Bruna\n",
        "# Ana deve 20 reais para Carla\n",
        "# Bruna deve 7 reais para Carla\n",
        "# Carla deve 20 reais para Ana\n",
        "# Carla deve 10 reais para Bruna\n",
        "\n",
        "input = [['ana', 'bruna', 15],['ana', 'carla',20],['bruna', 'carla', 7],['carla', 'ana', 20], ['carla', 'bruna', 10]]"
      ]
    },
    {
      "cell_type": "markdown",
      "source": [
        "### O output esperado é o pior pagador, isto é, aquele que mais deve do que recebe\n"
      ],
      "metadata": {
        "id": "qg2gixhaiTuy"
      }
    },
    {
      "cell_type": "code",
      "source": [
        "output = 'ana'"
      ],
      "metadata": {
        "id": "Cbc7WLq4ihMJ"
      },
      "execution_count": 72,
      "outputs": []
    },
    {
      "cell_type": "markdown",
      "source": [
        "# Solução "
      ],
      "metadata": {
        "id": "Ezz23jb_ilnP"
      }
    },
    {
      "cell_type": "code",
      "source": [
        "devedores = []\n",
        "recebedores = []\n",
        "valor = []\n",
        "\n",
        "for i in input:\n",
        "  devedores.append(i[0])\n",
        "  recebedores.append(i[1])\n",
        "  valor.append(i[2])\n",
        "\n",
        "print(devedores, recebedores, valor)"
      ],
      "metadata": {
        "colab": {
          "base_uri": "https://localhost:8080/"
        },
        "id": "9YtFHUkHxKmF",
        "outputId": "3f3f89d7-596d-4c16-86c5-8ab6f079752e"
      },
      "execution_count": 39,
      "outputs": [
        {
          "output_type": "stream",
          "name": "stdout",
          "text": [
            "['ana', 'ana', 'bruna', 'carla', 'carla'] ['bruna', 'carla', 'carla', 'ana', 'bruna'] [15, 20, 7, 20, 10]\n"
          ]
        }
      ]
    },
    {
      "cell_type": "code",
      "source": [
        "dicioDevedores = dict.fromkeys(devedores , 0)\n",
        "dicioRecebedores = dict.fromkeys(recebedores , 0)\n",
        "\n",
        "for chaveD, chaveR in zip(dicioDevedores.keys(), dicioRecebedores.keys()) :\n",
        "  #print(f'Chave Devedores = {chaveD} e Valor = {dicioDevedores[chaveD]}')\n",
        "  #print(f'Chave Recebedores = {chaveR} e Valor = {dicioRecebedores[chaveR]}')\n",
        " \n",
        "  for i in input:\n",
        "    if(chaveD == i[0]):\n",
        "      dicioDevedores[chaveD]+= i[2]\n",
        "    if(chaveR == i[1]):\n",
        "      dicioRecebedores[chaveR]+= i[2]\n",
        "\n",
        "print(dicioDevedores, dicioRecebedores)"
      ],
      "metadata": {
        "colab": {
          "base_uri": "https://localhost:8080/"
        },
        "id": "njN4wDD_E8Nx",
        "outputId": "ff63546e-8dfa-472c-df19-74bb43de7fe2"
      },
      "execution_count": 68,
      "outputs": [
        {
          "output_type": "stream",
          "name": "stdout",
          "text": [
            "{'ana': 35, 'bruna': 7, 'carla': 30} {'bruna': 25, 'carla': 27, 'ana': 20}\n"
          ]
        }
      ]
    },
    {
      "cell_type": "code",
      "source": [
        "dicioResposta = dict.fromkeys(devedores , 0)\n",
        "\n",
        "for chaveD in dicioDevedores.keys():\n",
        "  #print(f'Chave Devedores = {chaveD} e Valor = {dicioDevedores[chaveD]}')\n",
        "  for chaveR in dicioDevedores.keys():\n",
        "    #print(f'Chave Recebedores = {chaveR} e Valor = {dicioRecebedores[chaveR]}')\n",
        "\n",
        "    if(chaveD == chaveR):\n",
        "      valor = dicioRecebedores[chaveR] - dicioDevedores[chaveD]\n",
        "      dicioResposta[chaveD] = valor\n",
        "\n",
        "print(dicioResposta)"
      ],
      "metadata": {
        "colab": {
          "base_uri": "https://localhost:8080/"
        },
        "id": "niFwUgVYMgLc",
        "outputId": "4765a147-8b77-49e7-a3fc-633fb1ddbaf9"
      },
      "execution_count": 69,
      "outputs": [
        {
          "output_type": "stream",
          "name": "stdout",
          "text": [
            "{'ana': -15, 'bruna': 18, 'carla': -3}\n"
          ]
        }
      ]
    },
    {
      "cell_type": "code",
      "source": [
        "menor = 100000\n",
        "\n",
        "for chave in dicioResposta.keys():\n",
        "  if(dicioResposta[chave] < menor):\n",
        "    menor = dicioResposta[chave]\n",
        "    resposta = chave"
      ],
      "metadata": {
        "colab": {
          "base_uri": "https://localhost:8080/"
        },
        "id": "y-9FtPCVOzfA",
        "outputId": "10389103-9f57-4a19-bb6a-fe30ad5282ca"
      },
      "execution_count": 74,
      "outputs": [
        {
          "output_type": "stream",
          "name": "stdout",
          "text": [
            "Resposta obtida: ana\n",
            "Resposta esperada: ana\n"
          ]
        }
      ]
    },
    {
      "cell_type": "markdown",
      "source": [
        "# Considerações finais"
      ],
      "metadata": {
        "id": "mXdfdvh1jSh_"
      }
    },
    {
      "cell_type": "code",
      "source": [
        "print('Resposta obtida: ' + resposta + '\\nResposta esperada: ' + output)"
      ],
      "metadata": {
        "colab": {
          "base_uri": "https://localhost:8080/"
        },
        "id": "Qwu6LflKjSMx",
        "outputId": "056e7429-4414-4dd9-85c5-ca11346f959c"
      },
      "execution_count": 75,
      "outputs": [
        {
          "output_type": "stream",
          "name": "stdout",
          "text": [
            "Resposta obtida: ana\n",
            "Resposta esperada: ana\n"
          ]
        }
      ]
    }
  ]
}