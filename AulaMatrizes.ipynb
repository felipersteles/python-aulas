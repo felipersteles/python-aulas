{
  "nbformat": 4,
  "nbformat_minor": 0,
  "metadata": {
    "colab": {
      "provenance": []
    },
    "kernelspec": {
      "name": "python3",
      "display_name": "Python 3"
    },
    "language_info": {
      "name": "python"
    }
  },
  "cells": [
    {
      "cell_type": "markdown",
      "source": [
        "#O que são matrizes?\n",
        "## Uma matriz em âmbito de computação é basicamente um array de arrays"
      ],
      "metadata": {
        "id": "rKRRFanXETvu"
      }
    },
    {
      "cell_type": "code",
      "execution_count": 30,
      "metadata": {
        "colab": {
          "base_uri": "https://localhost:8080/"
        },
        "id": "SG-LN9j5EOk8",
        "outputId": "8fdf7b8e-170c-41e2-932a-8f0d6f138600"
      },
      "outputs": [
        {
          "output_type": "stream",
          "name": "stdout",
          "text": [
            "Matriz: \n",
            "\n",
            "[10, 10, 10]\n",
            "[10, 10, 10]\n",
            "[10, 10, 10]\n"
          ]
        }
      ],
      "source": [
        "#declarando uma matriz 3x3\n",
        "matriz1 = [[10,10,10],[10,10,10],[10,10,10]]\n",
        "\n",
        "#printando todos os elementos de uma matriz\n",
        "def printa_matriz(matriz):\n",
        "  print(\"Matriz: \\n\")\n",
        "  for term in matriz:\n",
        "    print(term)\n",
        "\n",
        "printa_matriz(matriz1)"
      ]
    },
    {
      "cell_type": "code",
      "source": [
        "#criando uma matriz dando como entrada o numero de linhas e colunas\n",
        "\n",
        "\n",
        "def cria_matriz():\n",
        "  \n",
        "  print(\"Digite a quantidade de linnhas: \")\n",
        "  linhas = int(input())\n",
        "\n",
        "  print(\"Digite a quantidade de colunas: \")\n",
        "  colunas = int(input())\n",
        "\n",
        "  matriz = [[0 for x in range(colunas)] for y in range(linhas)]\n",
        "\n",
        "  for linha in range(linhas):\n",
        "    for coluna in range(colunas):\n",
        "      print(\"Digite o valor do termo na pos[\",linha,\"][\",coluna,\"]: \")\n",
        "      matriz[linha][coluna] = int(input())\n",
        "\n",
        "  return matriz\n",
        "\n",
        "matriz2 = cria_matriz()\n",
        "printa_matriz(matriz2)"
      ],
      "metadata": {
        "colab": {
          "base_uri": "https://localhost:8080/"
        },
        "id": "wO4JMgm8ITMN",
        "outputId": "407ad4a0-2ef6-4d59-b63d-0e2e3ac1e354"
      },
      "execution_count": 51,
      "outputs": [
        {
          "output_type": "stream",
          "name": "stdout",
          "text": [
            "Digite a quantidade de linnhas: \n",
            "3\n",
            "Digite a quantidade de colunas: \n",
            "3\n",
            "Digite o valor do termo na pos[ 0 ][ 0 ]: \n",
            "1\n",
            "Digite o valor do termo na pos[ 0 ][ 1 ]: \n",
            "2\n",
            "Digite o valor do termo na pos[ 0 ][ 2 ]: \n",
            "3\n",
            "Digite o valor do termo na pos[ 1 ][ 0 ]: \n",
            "4\n",
            "Digite o valor do termo na pos[ 1 ][ 1 ]: \n",
            "5\n",
            "Digite o valor do termo na pos[ 1 ][ 2 ]: \n",
            "6\n",
            "Digite o valor do termo na pos[ 2 ][ 0 ]: \n",
            "7\n",
            "Digite o valor do termo na pos[ 2 ][ 1 ]: \n",
            "8\n",
            "Digite o valor do termo na pos[ 2 ][ 2 ]: \n",
            "9\n",
            "Matriz: \n",
            "\n",
            "[1, 2, 3]\n",
            "[4, 5, 6]\n",
            "[7, 8, 9]\n"
          ]
        }
      ]
    },
    {
      "cell_type": "markdown",
      "source": [
        "#Operações com matrizes:\n",
        "##soma e subtração\n",
        "\n",
        "Para realizar estas operações é necessário que as matrizes tenham o mesmo numero de colunas e linhas"
      ],
      "metadata": {
        "id": "aoz-Gn5MMFO0"
      }
    },
    {
      "cell_type": "code",
      "source": [
        "#matrizA = cria_matriz()\n",
        "#matrizB = cria_matriz()\n",
        "\n",
        "def soma_matrizes(matrizA, matrizB):\n",
        "  linhasA = len(matrizA)\n",
        "  linhasB = len(matrizB)\n",
        "  colunasA = len(matrizA[0])\n",
        "  colunasB = len(matrizB[0])\n",
        "\n",
        "  if linhasA == linhasB and colunasA == colunasB:\n",
        "    resposta = [[0 for x in range(colunasA)] for y in range(linhasA)]\n",
        "    for linha in range(linhasA):\n",
        "      for coluna in range(colunasA):\n",
        "        resposta[linha][coluna] = matrizA[linha][coluna] + matrizB[linha][coluna]\n",
        "    \n",
        "    return resposta\n",
        "  else:\n",
        "    print(\"Não é póssivel realizar a operação\")\n",
        "    return None\n",
        "\n",
        "def subtrai_matrizes(matrizA, matrizB):\n",
        "  linhasA = len(matrizA)\n",
        "  linhasB = len(matrizB)\n",
        "  colunasA = len(matrizA[0])\n",
        "  colunasB = len(matrizB[0])\n",
        "\n",
        "  if linhasA == linhasB and colunasA == colunasB:\n",
        "    resposta = [[0 for x in range(colunasA)] for y in range(linhasA)]\n",
        "    for linha in range(linhasA):\n",
        "      for coluna in range(colunasA):\n",
        "        resposta[linha][coluna] = matrizA[linha][coluna] - matrizB[linha][coluna]\n",
        "    \n",
        "    return resposta\n",
        "  else:\n",
        "    print(\"Não é póssivel realizar a operação\")\n",
        "    return None"
      ],
      "metadata": {
        "id": "V_huPcKBPTlD"
      },
      "execution_count": 56,
      "outputs": []
    },
    {
      "cell_type": "code",
      "source": [
        "soma = soma_matrizes(matriz1, matriz2)\n",
        "subtracao = subtrai_matrizes(matriz1, matriz2)\n",
        "\n",
        "printa_matriz(soma)\n",
        "print('')\n",
        "printa_matriz(subtracao)"
      ],
      "metadata": {
        "colab": {
          "base_uri": "https://localhost:8080/"
        },
        "id": "U3PqVZCEVTMD",
        "outputId": "200f1bf2-8ac9-48d6-b232-643bc9671436"
      },
      "execution_count": 60,
      "outputs": [
        {
          "output_type": "stream",
          "name": "stdout",
          "text": [
            "Matriz: \n",
            "\n",
            "[11, 12, 13]\n",
            "[14, 15, 16]\n",
            "[17, 18, 19]\n",
            "\n",
            "Matriz: \n",
            "\n",
            "[9, 8, 7]\n",
            "[6, 5, 4]\n",
            "[3, 2, 1]\n"
          ]
        }
      ]
    },
    {
      "cell_type": "markdown",
      "source": [
        "#multiplicação\n",
        "Para a multiplicação é necessario seguir uma regra basica que envolve o numero de colunas da matriz A ser igual ao numero de linhas da matriz B"
      ],
      "metadata": {
        "id": "CHVd94PqV3qW"
      }
    },
    {
      "cell_type": "code",
      "source": [
        "def multiplica_matrizes(matrizA, matrizB):\n",
        "  linhasA = len(matrizA)\n",
        "  linhasB = len(matrizB)\n",
        "  colunasA = len(matrizA[0])\n",
        "  colunasB = len(matrizB[0])\n",
        "\n",
        "  if colunasA == linhasB:\n",
        "    resposta = [[0 for x in range(linhasA)] for y in range(colunasB)]\n",
        "    for i in range(linhasA):\n",
        "      for j in range(colunasB):\n",
        "        for k in range(linhasB):\n",
        "          resposta[i][j] += matrizA[i][k] * matrizB[k][j]\n",
        "        \n",
        "    \n",
        "    return resposta\n",
        "  else:\n",
        "    print(\"Não é póssivel realizar a operação\")\n",
        "    return None"
      ],
      "metadata": {
        "id": "PjNWOIasV10o"
      },
      "execution_count": 71,
      "outputs": []
    },
    {
      "cell_type": "code",
      "source": [
        "matrizA = cria_matriz()\n",
        "matrizB = cria_matriz()"
      ],
      "metadata": {
        "colab": {
          "base_uri": "https://localhost:8080/"
        },
        "id": "q7WPaDflX0Mp",
        "outputId": "83fcb306-edcb-4d6f-ec0d-bd757d2a7fb5"
      },
      "execution_count": 65,
      "outputs": [
        {
          "name": "stdout",
          "output_type": "stream",
          "text": [
            "Digite a quantidade de linnhas: \n",
            "3\n",
            "Digite a quantidade de colunas: \n",
            "2\n",
            "Digite o valor do termo na pos[ 0 ][ 0 ]: \n",
            "3\n",
            "Digite o valor do termo na pos[ 0 ][ 1 ]: \n",
            "2\n",
            "Digite o valor do termo na pos[ 1 ][ 0 ]: \n",
            "3\n",
            "Digite o valor do termo na pos[ 1 ][ 1 ]: \n",
            "3\n",
            "Digite o valor do termo na pos[ 2 ][ 0 ]: \n",
            "1\n",
            "Digite o valor do termo na pos[ 2 ][ 1 ]: \n",
            "2\n",
            "Digite a quantidade de linnhas: \n",
            "2\n",
            "Digite a quantidade de colunas: \n",
            "3\n",
            "Digite o valor do termo na pos[ 0 ][ 0 ]: \n",
            "3\n",
            "Digite o valor do termo na pos[ 0 ][ 1 ]: \n",
            "2\n",
            "Digite o valor do termo na pos[ 0 ][ 2 ]: \n",
            "6\n",
            "Digite o valor do termo na pos[ 1 ][ 0 ]: \n",
            "1\n",
            "Digite o valor do termo na pos[ 1 ][ 1 ]: \n",
            "2\n",
            "Digite o valor do termo na pos[ 1 ][ 2 ]: \n",
            "5\n"
          ]
        }
      ]
    },
    {
      "cell_type": "code",
      "source": [
        "resposta = multiplica_matrizes(matrizA, matrizB)\n",
        "printa_matriz(resposta)"
      ],
      "metadata": {
        "colab": {
          "base_uri": "https://localhost:8080/"
        },
        "id": "cEg6wYZhYWSi",
        "outputId": "5e3a06df-ebd7-44e9-9c62-43b543f6fb16"
      },
      "execution_count": 72,
      "outputs": [
        {
          "output_type": "stream",
          "name": "stdout",
          "text": [
            "Matriz: \n",
            "\n",
            "[11, 10, 28]\n",
            "[12, 12, 33]\n",
            "[5, 6, 16]\n"
          ]
        }
      ]
    }
  ]
}